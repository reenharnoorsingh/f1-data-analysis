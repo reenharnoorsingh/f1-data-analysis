{
 "cells": [
  {
   "cell_type": "code",
   "execution_count": 11,
   "metadata": {},
   "outputs": [],
   "source": [
    "import fastf1 as ff1\n",
    "import fastf1.plotting\n",
    "import matplotlib.pyplot as plt\n",
    "import pandas as pd\n",
    "\n",
    "\n",
    "fastf1.plotting.setup_mpl(misc_mpl_mods=False)"
   ]
  },
  {
   "cell_type": "code",
   "execution_count": 12,
   "metadata": {},
   "outputs": [],
   "source": [
    "# Enable the cache\n",
    "ff1.Cache.enable_cache('fastf1_cache') \n"
   ]
  },
  {
   "cell_type": "code",
   "execution_count": 13,
   "metadata": {},
   "outputs": [
    {
     "name": "stdout",
     "output_type": "stream",
     "text": [
      "    RoundNumber        Country           Location  \\\n",
      "0             0        Bahrain             Sakhir   \n",
      "1             1        Bahrain             Sakhir   \n",
      "2             2   Saudi Arabia             Jeddah   \n",
      "3             3      Australia          Melbourne   \n",
      "4             4     Azerbaijan               Baku   \n",
      "5             5  United States              Miami   \n",
      "6             6         Monaco             Monaco   \n",
      "7             7          Spain          Barcelona   \n",
      "8             8         Canada           Montréal   \n",
      "9             9        Austria          Spielberg   \n",
      "10           10  Great Britain        Silverstone   \n",
      "11           11        Hungary           Budapest   \n",
      "12           12        Belgium  Spa-Francorchamps   \n",
      "13           13    Netherlands          Zandvoort   \n",
      "14           14          Italy              Monza   \n",
      "15           15      Singapore         Marina Bay   \n",
      "16           16          Japan             Suzuka   \n",
      "17           17          Qatar             Lusail   \n",
      "18           18  United States             Austin   \n",
      "19           19         Mexico        Mexico City   \n",
      "20           20         Brazil          São Paulo   \n",
      "21           21  United States          Las Vegas   \n",
      "22           22      Abu Dhabi         Yas Island   \n",
      "\n",
      "                                    OfficialEventName           EventDate  \\\n",
      "0            FORMULA 1 ARAMCO PRE-SEASON TESTING 2023 2023-02-25 19:30:00   \n",
      "1          FORMULA 1 GULF AIR BAHRAIN GRAND PRIX 2023 2023-03-05 20:00:00   \n",
      "2         FORMULA 1 STC SAUDI ARABIAN GRAND PRIX 2023 2023-03-19 22:00:00   \n",
      "3          FORMULA 1 ROLEX AUSTRALIAN GRAND PRIX 2023 2023-04-02 17:00:00   \n",
      "4                FORMULA 1 AZERBAIJAN GRAND PRIX 2023 2023-04-30 17:00:00   \n",
      "5          FORMULA 1 CRYPTO.COM MIAMI GRAND PRIX 2023 2023-05-07 17:30:00   \n",
      "6                 FORMULA 1 GRAND PRIX DE MONACO 2023 2023-05-28 17:00:00   \n",
      "7            FORMULA 1 AWS GRAN PREMIO DE ESPAÑA 2023 2023-06-04 17:00:00   \n",
      "8         FORMULA 1 PIRELLI GRAND PRIX DU CANADA 2023 2023-06-18 16:00:00   \n",
      "9   FORMULA 1 ROLEX GROSSER PREIS VON ÖSTERREICH 2023 2023-07-02 17:00:00   \n",
      "10           FORMULA 1 ARAMCO BRITISH GRAND PRIX 2023 2023-07-09 17:00:00   \n",
      "11  FORMULA 1 QATAR AIRWAYS HUNGARIAN GRAND PRIX 2023 2023-07-23 17:00:00   \n",
      "12      FORMULA 1 MSC CRUISES BELGIAN GRAND PRIX 2023 2023-07-30 17:00:00   \n",
      "13           FORMULA 1 HEINEKEN DUTCH GRAND PRIX 2023 2023-08-27 17:00:00   \n",
      "14       FORMULA 1 PIRELLI GRAN PREMIO D’ITALIA 2023  2023-09-03 17:00:00   \n",
      "15  FORMULA 1 SINGAPORE AIRLINES SINGAPORE GRAND P... 2023-09-17 22:00:00   \n",
      "16         FORMULA 1 LENOVO JAPANESE GRAND PRIX 2023  2023-09-24 16:00:00   \n",
      "17      FORMULA 1 QATAR AIRWAYS QATAR GRAND PRIX 2023 2023-10-08 22:00:00   \n",
      "18     FORMULA 1 LENOVO UNITED STATES GRAND PRIX 2023 2023-10-22 16:00:00   \n",
      "19  FORMULA 1 GRAN PREMIO DE LA CIUDAD DE MÉXICO 2023 2023-10-29 16:00:00   \n",
      "20    FORMULA 1 ROLEX GRANDE PRÊMIO DE SÃO PAULO 2023 2023-11-05 16:00:00   \n",
      "21  FORMULA 1 HEINEKEN SILVER LAS VEGAS GRAND PRIX... 2023-11-18 23:59:59   \n",
      "22  FORMULA 1 ETIHAD AIRWAYS ABU DHABI GRAND PRIX ... 2023-11-26 19:00:00   \n",
      "\n",
      "                   EventName      EventFormat    Session1        Session1Date  \\\n",
      "0         Pre-Season Testing          testing  Practice 1 2023-02-23 10:00:00   \n",
      "1         Bahrain Grand Prix     conventional  Practice 1 2023-03-03 14:30:00   \n",
      "2   Saudi Arabian Grand Prix     conventional  Practice 1 2023-03-17 16:30:00   \n",
      "3      Australian Grand Prix     conventional  Practice 1 2023-03-31 12:30:00   \n",
      "4      Azerbaijan Grand Prix  sprint_shootout  Practice 1 2023-04-28 13:30:00   \n",
      "5           Miami Grand Prix     conventional  Practice 1 2023-05-05 14:00:00   \n",
      "6          Monaco Grand Prix     conventional  Practice 1 2023-05-26 13:30:00   \n",
      "7         Spanish Grand Prix     conventional  Practice 1 2023-06-02 13:30:00   \n",
      "8        Canadian Grand Prix     conventional  Practice 1 2023-06-16 13:30:00   \n",
      "9        Austrian Grand Prix  sprint_shootout  Practice 1 2023-06-30 13:30:00   \n",
      "10        British Grand Prix     conventional  Practice 1 2023-07-07 12:30:00   \n",
      "11      Hungarian Grand Prix     conventional  Practice 1 2023-07-21 13:30:00   \n",
      "12        Belgian Grand Prix  sprint_shootout  Practice 1 2023-07-28 13:30:00   \n",
      "13          Dutch Grand Prix     conventional  Practice 1 2023-08-25 12:30:00   \n",
      "14        Italian Grand Prix     conventional  Practice 1 2023-09-01 13:30:00   \n",
      "15      Singapore Grand Prix     conventional  Practice 1 2023-09-15 17:30:00   \n",
      "16       Japanese Grand Prix     conventional  Practice 1 2023-09-22 11:30:00   \n",
      "17          Qatar Grand Prix  sprint_shootout  Practice 1 2023-10-06 16:30:00   \n",
      "18  United States Grand Prix  sprint_shootout  Practice 1 2023-10-20 12:30:00   \n",
      "19    Mexico City Grand Prix     conventional  Practice 1 2023-10-27 12:30:00   \n",
      "20      São Paulo Grand Prix  sprint_shootout  Practice 1 2023-11-03 11:30:00   \n",
      "21      Las Vegas Grand Prix     conventional  Practice 1 2023-11-16 20:30:00   \n",
      "22      Abu Dhabi Grand Prix     conventional  Practice 1 2023-11-24 13:30:00   \n",
      "\n",
      "      Session2        Session2Date         Session3        Session3Date  \\\n",
      "0   Practice 2 2023-02-24 10:00:00       Practice 3 2023-02-25 10:00:00   \n",
      "1   Practice 2 2023-03-03 18:00:00       Practice 3 2023-03-04 14:30:00   \n",
      "2   Practice 2 2023-03-17 20:00:00       Practice 3 2023-03-18 16:30:00   \n",
      "3   Practice 2 2023-03-31 16:00:00       Practice 3 2023-04-01 12:30:00   \n",
      "4   Qualifying 2023-04-28 17:00:00  Sprint Shootout 2023-04-29 12:30:00   \n",
      "5   Practice 2 2023-05-05 17:30:00       Practice 3 2023-05-06 12:30:00   \n",
      "6   Practice 2 2023-05-26 17:00:00       Practice 3 2023-05-27 12:30:00   \n",
      "7   Practice 2 2023-06-02 17:00:00       Practice 3 2023-06-03 12:30:00   \n",
      "8   Practice 2 2023-06-16 16:30:00       Practice 3 2023-06-17 12:30:00   \n",
      "9   Qualifying 2023-06-30 17:00:00  Sprint Shootout 2023-07-01 12:00:00   \n",
      "10  Practice 2 2023-07-07 16:00:00       Practice 3 2023-07-08 11:30:00   \n",
      "11  Practice 2 2023-07-21 17:00:00       Practice 3 2023-07-22 12:30:00   \n",
      "12  Qualifying 2023-07-28 17:00:00  Sprint Shootout 2023-07-29 12:00:00   \n",
      "13  Practice 2 2023-08-25 16:00:00       Practice 3 2023-08-26 11:30:00   \n",
      "14  Practice 2 2023-09-01 17:00:00       Practice 3 2023-09-02 12:30:00   \n",
      "15  Practice 2 2023-09-15 21:00:00       Practice 3 2023-09-16 17:30:00   \n",
      "16  Practice 2 2023-09-22 15:00:00       Practice 3 2023-09-23 11:30:00   \n",
      "17  Qualifying 2023-10-06 20:00:00  Sprint Shootout 2023-10-07 16:00:00   \n",
      "18  Qualifying 2023-10-20 16:00:00  Sprint Shootout 2023-10-21 12:30:00   \n",
      "19  Practice 2 2023-10-27 16:00:00       Practice 3 2023-10-28 11:30:00   \n",
      "20  Qualifying 2023-11-03 15:00:00  Sprint Shootout 2023-11-04 11:00:00   \n",
      "21  Practice 2 2023-11-17 00:00:00       Practice 3 2023-11-17 20:30:00   \n",
      "22  Practice 2 2023-11-24 17:00:00       Practice 3 2023-11-25 14:30:00   \n",
      "\n",
      "      Session4        Session4Date Session5        Session5Date  F1ApiSupport  \n",
      "0         None                 NaT     None                 NaT          True  \n",
      "1   Qualifying 2023-03-04 18:00:00     Race 2023-03-05 18:00:00          True  \n",
      "2   Qualifying 2023-03-18 20:00:00     Race 2023-03-19 20:00:00          True  \n",
      "3   Qualifying 2023-04-01 16:00:00     Race 2023-04-02 15:00:00          True  \n",
      "4       Sprint 2023-04-29 17:30:00     Race 2023-04-30 15:00:00          True  \n",
      "5   Qualifying 2023-05-06 16:00:00     Race 2023-05-07 15:30:00          True  \n",
      "6   Qualifying 2023-05-27 16:00:00     Race 2023-05-28 15:00:00          True  \n",
      "7   Qualifying 2023-06-03 16:00:00     Race 2023-06-04 15:00:00          True  \n",
      "8   Qualifying 2023-06-17 16:00:00     Race 2023-06-18 14:00:00          True  \n",
      "9       Sprint 2023-07-01 16:30:00     Race 2023-07-02 15:00:00          True  \n",
      "10  Qualifying 2023-07-08 15:00:00     Race 2023-07-09 15:00:00          True  \n",
      "11  Qualifying 2023-07-22 16:00:00     Race 2023-07-23 15:00:00          True  \n",
      "12      Sprint 2023-07-29 17:05:00     Race 2023-07-30 15:00:00          True  \n",
      "13  Qualifying 2023-08-26 15:00:00     Race 2023-08-27 15:00:00          True  \n",
      "14  Qualifying 2023-09-02 16:00:00     Race 2023-09-03 15:00:00          True  \n",
      "15  Qualifying 2023-09-16 21:00:00     Race 2023-09-17 20:00:00          True  \n",
      "16  Qualifying 2023-09-23 15:00:00     Race 2023-09-24 14:00:00          True  \n",
      "17      Sprint 2023-10-07 20:30:00     Race 2023-10-08 20:00:00          True  \n",
      "18      Sprint 2023-10-21 17:00:00     Race 2023-10-22 14:00:00          True  \n",
      "19  Qualifying 2023-10-28 15:00:00     Race 2023-10-29 14:00:00          True  \n",
      "20      Sprint 2023-11-04 15:30:00     Race 2023-11-05 14:00:00          True  \n",
      "21  Qualifying 2023-11-18 00:00:00     Race 2023-11-18 22:00:00          True  \n",
      "22  Qualifying 2023-11-25 18:00:00     Race 2023-11-26 17:00:00          True  \n"
     ]
    }
   ],
   "source": [
    "test2023 = ff1.get_event_schedule(2023) #get all races information and list\n",
    "#test2023.head()\n",
    "#print(test2023)"
   ]
  },
  {
   "cell_type": "markdown",
   "metadata": {},
   "source": [
    "# Qualifying Analysis"
   ]
  },
  {
   "cell_type": "code",
   "execution_count": 14,
   "metadata": {},
   "outputs": [
    {
     "name": "stderr",
     "output_type": "stream",
     "text": [
      "core           INFO \tLoading data for Belgian Grand Prix - Qualifying [v2.3.1]\n"
     ]
    },
    {
     "name": "stderr",
     "output_type": "stream",
     "text": [
      "api            INFO \tUsing cached data for driver_info\n",
      "api            INFO \tUsing cached data for timing_data\n",
      "api            INFO \tUsing cached data for timing_app_data\n",
      "core           INFO \tProcessing timing data...\n",
      "api            INFO \tUsing cached data for session_status_data\n",
      "api            INFO \tUsing cached data for track_status_data\n",
      "api            INFO \tUsing cached data for car_data\n",
      "api            INFO \tUsing cached data for position_data\n",
      "api            INFO \tUsing cached data for weather_data\n",
      "api            INFO \tUsing cached data for race_control_messages\n",
      "core           INFO \tFinished loading data for 20 drivers: ['1', '16', '11', '44', '55', '81', '4', '63', '14', '18', '22', '10', '20', '77', '31', '23', '24', '2', '3', '27']\n"
     ]
    }
   ],
   "source": [
    "sessionQ = ff1.get_session(2023, 12, 'Q') #get qualifying\n",
    "sessionQ.load()"
   ]
  },
  {
   "cell_type": "code",
   "execution_count": 15,
   "metadata": {},
   "outputs": [],
   "source": [
    "#get fastest laps\n",
    "ver_lap = sessionQ.laps.pick_driver('VER').pick_fastest()\n",
    "lec_lap = sessionQ.laps.pick_driver('LEC').pick_fastest()\n",
    "alo_lap = sessionQ.laps.pick_driver('ALO').pick_fastest()"
   ]
  },
  {
   "cell_type": "code",
   "execution_count": 16,
   "metadata": {},
   "outputs": [],
   "source": [
    "ver_tel = ver_lap.get_car_data().add_distance()\n",
    "lec_tel = lec_lap.get_car_data().add_distance()\n",
    "alo_tel = alo_lap.get_car_data().add_distance()"
   ]
  },
  {
   "cell_type": "code",
   "execution_count": 17,
   "metadata": {},
   "outputs": [
    {
     "data": {
      "image/png": "[encoded data removed]",
      "text/plain": [
       "<Figure size 432x288 with 1 Axes>"
      ]
     },
     "metadata": {},
     "output_type": "display_data"
    }
   ],
   "source": [
    "rbr_color = fastf1.plotting.team_color('RBR')\n",
    "fer_color = fastf1.plotting.team_color('FER')\n",
    "amr_color = fastf1.plotting.team_color('aston martin')\n",
    "\n",
    "fig, ax = plt.subplots()\n",
    "ax.plot(ver_tel['Distance'], ver_tel['Speed'], color=rbr_color, label='VER')\n",
    "ax.plot(lec_tel['Distance'], lec_tel['Speed'], color=fer_color, label='LEC')\n",
    "ax.plot(alo_tel['Distance'], alo_tel['Speed'], color=amr_color, label='ALO')\n",
    "\n",
    "ax.set_xlabel('Distance in m')\n",
    "ax.set_ylabel('Speed in km/h')\n",
    "\n",
    "ax.legend()\n",
    "plt.suptitle(f\"Fastest Lap Comparison \\n \"\n",
    "             f\"{sessionQ.event['EventName']} {sessionQ.event.year} Qualifying\")\n",
    "\n",
    "plt.show()"
   ]
  },
  {
   "cell_type": "markdown",
   "metadata": {},
   "source": [
    "# Race Analysis"
   ]
  },
  {
   "cell_type": "code",
   "execution_count": 18,
   "metadata": {},
   "outputs": [
    {
     "name": "stderr",
     "output_type": "stream",
     "text": [
      "core           INFO \tLoading data for Belgian Grand Prix - Race [v2.3.1]\n",
      "api            INFO \tUsing cached data for driver_info\n",
      "api            INFO \tUsing cached data for timing_data\n",
      "api            INFO \tUsing cached data for timing_app_data\n",
      "core           INFO \tProcessing timing data...\n",
      "api            INFO \tUsing cached data for session_status_data\n",
      "api            INFO \tUsing cached data for track_status_data\n",
      "api            INFO \tUsing cached data for car_data\n",
      "api            INFO \tUsing cached data for position_data\n",
      "api            INFO \tUsing cached data for weather_data\n",
      "api            INFO \tUsing cached data for race_control_messages\n",
      "core           INFO \tFinished loading data for 20 drivers: ['1', '11', '16', '44', '14', '63', '4', '31', '18', '22', '10', '77', '24', '23', '20', '3', '2', '27', '55', '81']\n"
     ]
    }
   ],
   "source": [
    "sessionR = ff1.get_session(2023, 12, 'R') #get race information in the cache\n",
    "sessionR.load()"
   ]
  },
  {
   "cell_type": "code",
   "execution_count": null,
   "metadata": {},
   "outputs": [],
   "source": []
  },
  {
   "attachments": {},
   "cell_type": "markdown",
   "metadata": {},
   "source": []
  }
 ],
 "metadata": {
  "kernelspec": {
   "display_name": "Python 3",
   "language": "python",
   "name": "python3"
  },
  "language_info": {
   "codemirror_mode": {
    "name": "ipython",
    "version": 3
   },
   "file_extension": ".py",
   "mimetype": "text/x-python",
   "name": "python",
   "nbconvert_exporter": "python",
   "pygments_lexer": "ipython3",
   "version": "3.9.6"
  },
  "orig_nbformat": 4
 },
 "nbformat": 4,
 "nbformat_minor": 2
}
